{
 "cells": [
  {
   "cell_type": "code",
   "execution_count": 1,
   "id": "7be7f39d",
   "metadata": {},
   "outputs": [
    {
     "name": "stdout",
     "output_type": "stream",
     "text": [
      "H\n",
      "e\n",
      "l\n",
      "l\n",
      "o\n",
      ",\n",
      " \n",
      "w\n",
      "o\n",
      "r\n",
      "l\n",
      "d\n"
     ]
    }
   ],
   "source": [
    "for letter in \"Hello, world\":\n",
    "    print(letter)\n",
    "    "
   ]
  },
  {
   "cell_type": "markdown",
   "id": "a856b25f",
   "metadata": {},
   "source": [
    "# Challenge 1: Anagram checker\n",
    "### Givin two strings (string_a and string_b) write a function that returns True if these are anagrams of each other, False otherwise.\n",
    "*Criteria:*\n",
    ">Two strings are anagrams of each other if all the condistions below are met:\n",
    ">1. They must be of equal length.\n",
    ">2. They must use the exact same characters (the same amount of times).\n",
    "\n",
    "```\n",
    "Examples:\n",
    "heart and earth\n",
    "cars and scar\n",
    "rats and star\n",
    "```"
   ]
  },
  {
   "cell_type": "code",
   "execution_count": null,
   "id": "af8a480e",
   "metadata": {},
   "outputs": [],
   "source": [
    "# Harry Potter\n",
    "-> Tom Marvolo Riddle\n",
    "-> I am Lord Voldemort"
   ]
  }
 ],
 "metadata": {
  "kernelspec": {
   "display_name": "Python 3 (ipykernel)",
   "language": "python",
   "name": "python3"
  },
  "language_info": {
   "codemirror_mode": {
    "name": "ipython",
    "version": 3
   },
   "file_extension": ".py",
   "mimetype": "text/x-python",
   "name": "python",
   "nbconvert_exporter": "python",
   "pygments_lexer": "ipython3",
   "version": "3.10.6"
  }
 },
 "nbformat": 4,
 "nbformat_minor": 5
}
