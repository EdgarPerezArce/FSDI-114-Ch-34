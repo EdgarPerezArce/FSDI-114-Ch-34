{
 "cells": [
  {
   "cell_type": "code",
   "execution_count": 1,
   "id": "7be7f39d",
   "metadata": {},
   "outputs": [
    {
     "name": "stdout",
     "output_type": "stream",
     "text": [
      "H\n",
      "e\n",
      "l\n",
      "l\n",
      "o\n",
      ",\n",
      " \n",
      "w\n",
      "o\n",
      "r\n",
      "l\n",
      "d\n"
     ]
    }
   ],
   "source": [
    "for letter in \"Hello, world\":\n",
    "    print(letter)\n",
    "    "
   ]
  },
  {
   "cell_type": "markdown",
   "id": "a856b25f",
   "metadata": {},
   "source": [
    "# Challenge 1: Anagram checker\n",
    "### Givin two strings (string_a and string_b) write a function that returns True if these are anagrams of each other, False otherwise.\n",
    "*Criteria:*\n",
    ">Two strings are anagrams of each other if all the condistions below are met:\n",
    ">1. They must be of equal length.\n",
    ">2. They must use the exact same characters (the same amount of times).\n",
    "\n",
    "```\n",
    "Examples:\n",
    "heart and earth\n",
    "cars and scar\n",
    "rats and star\n",
    "```"
   ]
  },
  {
   "cell_type": "code",
   "execution_count": 2,
   "id": "af8a480e",
   "metadata": {},
   "outputs": [],
   "source": [
    "# Harry Potter\n",
    "# Tom Marvolo Riddle\n",
    "# I am Lord Voldemort"
   ]
  },
  {
   "cell_type": "code",
   "execution_count": 3,
   "id": "94ec5526",
   "metadata": {},
   "outputs": [],
   "source": [
    "# def anagram_check(string_a, string_b):\n",
    "#    return sorted(string_a) == sorted(string_b)"
   ]
  },
  {
   "cell_type": "code",
   "execution_count": 1,
   "id": "2a215b81",
   "metadata": {},
   "outputs": [],
   "source": [
    "# Assessment / Assembly / Action\n",
    "\n",
    "#\"tac\" \"cat\"\n",
    "# index = 0\n",
    "# t -> I haven't seen t; I add it to my seen_a dictionary.\n",
    "# seen_a = {\"a\": 1}\n",
    "# c -> I haven't c; I add it to my seen_b dictionary.\n",
    "# seen_b = {\"b\": 1}\n",
    "# a -> I havent seen a; I add it to my seen_a dictionary.\n",
    "# ...\n",
    "# seen_a = {\"t\": 1, \"a\": 1, \"c\": 1}\n",
    "# seen_b = {\"c\": 1, \"a\": 1, \"t\": 1}\n",
    "\n",
    "\n",
    "\n",
    "def anagram_check(string_a, string_b):\n",
    "    string_a = string_a.lower().replace(\" \", \"\")\n",
    "    string_a = string_b.lower().replace(\" \", \"\")\n",
    "    if len(string_a) != len(string_b):             # O(1) or constant time\n",
    "        return False\n",
    "    seen_a = dict()\n",
    "    seen_b = dict()\n",
    "    for index in range(len(string_a)):             # O(n) or linear time\n",
    "        if string_a[index] in seen_a.keys():\n",
    "            string_a[index] += 1\n",
    "        else:\n",
    "            string_a[index] = 1\n",
    "        if string_b[index] in seen_b.keys():\n",
    "            string_b[index] += 1\n",
    "        else:\n",
    "            string_b[index] = 1\n",
    "    return seen_a == seen_b\n",
    "\n",
    "# anagram_check(\"I am Lord Voldemort\", \"Tom Marvolo Riddle\")"
   ]
  },
  {
   "cell_type": "code",
   "execution_count": 5,
   "id": "5db385f9",
   "metadata": {},
   "outputs": [],
   "source": [
    "def anagram_check(str1, str2):\n",
    "    str1 = str1.replace(\" \", \"\").lower()\n",
    "    str2 = str2.replace(\" \", \"\").lower()\n",
    "    \n",
    "    str1 = sorted(str1)\n",
    "    str2 = sorted(str2)\n",
    "    \n",
    "    if str1 == str2:\n",
    "        return True\n",
    "    else:\n",
    "        return False"
   ]
  },
  {
   "cell_type": "code",
   "execution_count": 6,
   "id": "5209262c",
   "metadata": {},
   "outputs": [
    {
     "name": "stdout",
     "output_type": "stream",
     "text": [
      "True\n"
     ]
    }
   ],
   "source": [
    "str1 = \"I am Lord Voldemort\"\n",
    "str2 = \"Tom Marvolo Riddle\"\n",
    "print(anagram_check(str1, str2))"
   ]
  },
  {
   "cell_type": "code",
   "execution_count": null,
   "id": "e49cd7cb",
   "metadata": {},
   "outputs": [],
   "source": []
  }
 ],
 "metadata": {
  "kernelspec": {
   "display_name": "Python 3 (ipykernel)",
   "language": "python",
   "name": "python3"
  },
  "language_info": {
   "codemirror_mode": {
    "name": "ipython",
    "version": 3
   },
   "file_extension": ".py",
   "mimetype": "text/x-python",
   "name": "python",
   "nbconvert_exporter": "python",
   "pygments_lexer": "ipython3",
   "version": "3.10.6"
  }
 },
 "nbformat": 4,
 "nbformat_minor": 5
}
