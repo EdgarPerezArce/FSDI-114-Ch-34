{
 "cells": [
  {
   "cell_type": "code",
   "execution_count": 1,
   "id": "b5ae5295",
   "metadata": {},
   "outputs": [],
   "source": [
    "# The simplified approach\n",
    "\n",
    "class Stack:\n",
    "    def __init__(self):\n",
    "        self.items = []\n",
    "        \n",
    "    def push(self, element):\n",
    "        self.items.append(element)\n",
    "        \n",
    "    def pop(self):\n",
    "        return self.items.pop()\n",
    "    \n",
    "    # nice to have methods:\n",
    "    def is_empty(self):\n",
    "        return self.items == []\n",
    "    \n",
    "    def size(self):\n",
    "        return len(self.items)\n",
    "    \n",
    "    def peek(self):\n",
    "        return self.items[len(self.items)-1]"
   ]
  },
  {
   "cell_type": "code",
   "execution_count": 2,
   "id": "83a04cae",
   "metadata": {},
   "outputs": [
    {
     "data": {
      "text/plain": [
       "'ragdE'"
      ]
     },
     "execution_count": 2,
     "metadata": {},
     "output_type": "execute_result"
    }
   ],
   "source": [
    "def invert_str(mystring):\n",
    "    stack = Stack()\n",
    "    for letter in mystring:\n",
    "        stack.push(letter)\n",
    "    out = \"\"\n",
    "    while not stack.is_empty():\n",
    "        out += stack.pop()\n",
    "    return out\n",
    "\n",
    "invert_str(\"Edgar\")"
   ]
  },
  {
   "cell_type": "code",
   "execution_count": 3,
   "id": "f0fa65ed",
   "metadata": {},
   "outputs": [],
   "source": [
    "class Node:\n",
    "    def __init__(self, data):\n",
    "        self.data = data\n",
    "        self.above = None\n",
    "        "
   ]
  },
  {
   "cell_type": "code",
   "execution_count": 4,
   "id": "51c0559e",
   "metadata": {},
   "outputs": [],
   "source": [
    "# C Python\n",
    "# A garbage collected programming language\n",
    "# Reference counting\n",
    "# When the number of reference for an object in memory reaches 0, it is \"collected\" (the memory is freed up).\n",
    "class Stack:\n",
    "    def __init__(self):\n",
    "        self.base = None\n",
    "        \n",
    "    def push(self, element):\n",
    "        # what happens if our stack is empty and a push is called?\n",
    "        new_node = Node(element)\n",
    "        if not self.base:           # O(1)\n",
    "            self.base = new_node\n",
    "        else:\n",
    "            current = self.base\n",
    "            while current.above:\n",
    "                current = current.above\n",
    "            current.above = new_node\n",
    "            \n",
    "    def pop(self):\n",
    "        if not self.base:                         # equivalent to \"if self.base == None\"\n",
    "            raise IndexError(\"Stack is empty\")    # raise an exception\n",
    "        else:\n",
    "            current = self.base\n",
    "            prev = None\n",
    "            while current.above:\n",
    "                prev = current\n",
    "                current = current.above\n",
    "            if not prev:\n",
    "                datum = self.base.data\n",
    "                self.base = None\n",
    "                return datum\n",
    "            else:\n",
    "                datum = current.data\n",
    "                prev.above = None\n",
    "                return datum\n",
    "\n",
    "    def is_empty(self):\n",
    "        return self.base == None\n",
    "    \n",
    "    def size(self):\n",
    "        count = 0\n",
    "        current = self.base\n",
    "        while current:\n",
    "            count += 1\n",
    "            current = current.above\n",
    "        return count\n",
    "    \n",
    "    def peek(self):\n",
    "        # return the data stored in the topmost node without removing it from our stack.\n",
    "        pass\n",
    "    \n",
    "    def __len__(self):\n",
    "        return self.size()\n",
    "            \n"
   ]
  },
  {
   "cell_type": "code",
   "execution_count": 6,
   "id": "5672fbb4",
   "metadata": {},
   "outputs": [
    {
     "name": "stdout",
     "output_type": "stream",
     "text": [
      "5\n",
      "140064688570768\n",
      "140064688570736\n"
     ]
    }
   ],
   "source": [
    "# Primary data types\n",
    "# int, float, bool, imaginary\n",
    "# pass by value\n",
    "\n",
    "x = 5\n",
    "y = x\n",
    "\n",
    "x = x + 1\n",
    "\n",
    "print(y)\n",
    "print(id(x))\n",
    "print(id(y))"
   ]
  },
  {
   "cell_type": "code",
   "execution_count": 8,
   "id": "7da83f52",
   "metadata": {},
   "outputs": [
    {
     "name": "stdout",
     "output_type": "stream",
     "text": [
      "[1, 2, 3, 4]\n",
      "140064340813696\n",
      "140064340813696\n"
     ]
    }
   ],
   "source": [
    "# Other data types\n",
    "# Pass by the reference\n",
    "\n",
    "x = [1, 2, 3]\n",
    "\n",
    "y = x\n",
    "\n",
    "x.append(4)\n",
    "\n",
    "print(y)\n",
    "print(id(x))\n",
    "print(id(y))"
   ]
  },
  {
   "cell_type": "code",
   "execution_count": 9,
   "id": "2f5adbf4",
   "metadata": {},
   "outputs": [
    {
     "ename": "AttributeError",
     "evalue": "'Stack' object has no attribute 'is_empty'",
     "output_type": "error",
     "traceback": [
      "\u001b[0;31m---------------------------------------------------------------------------\u001b[0m",
      "\u001b[0;31mAttributeError\u001b[0m                            Traceback (most recent call last)",
      "Cell \u001b[0;32mIn[9], line 10\u001b[0m\n\u001b[1;32m      7\u001b[0m         out \u001b[38;5;241m+\u001b[39m\u001b[38;5;241m=\u001b[39m stack\u001b[38;5;241m.\u001b[39mpop()\n\u001b[1;32m      8\u001b[0m     \u001b[38;5;28;01mreturn\u001b[39;00m out\n\u001b[0;32m---> 10\u001b[0m \u001b[43minvert_str\u001b[49m\u001b[43m(\u001b[49m\u001b[38;5;124;43m\"\u001b[39;49m\u001b[38;5;124;43mEdgar\u001b[39;49m\u001b[38;5;124;43m\"\u001b[39;49m\u001b[43m)\u001b[49m\n",
      "Cell \u001b[0;32mIn[9], line 6\u001b[0m, in \u001b[0;36minvert_str\u001b[0;34m(mystring)\u001b[0m\n\u001b[1;32m      4\u001b[0m     stack\u001b[38;5;241m.\u001b[39mpush(letter)\n\u001b[1;32m      5\u001b[0m out \u001b[38;5;241m=\u001b[39m \u001b[38;5;124m\"\u001b[39m\u001b[38;5;124m\"\u001b[39m\n\u001b[0;32m----> 6\u001b[0m \u001b[38;5;28;01mwhile\u001b[39;00m \u001b[38;5;129;01mnot\u001b[39;00m \u001b[43mstack\u001b[49m\u001b[38;5;241;43m.\u001b[39;49m\u001b[43mis_empty\u001b[49m():\n\u001b[1;32m      7\u001b[0m     out \u001b[38;5;241m+\u001b[39m\u001b[38;5;241m=\u001b[39m stack\u001b[38;5;241m.\u001b[39mpop()\n\u001b[1;32m      8\u001b[0m \u001b[38;5;28;01mreturn\u001b[39;00m out\n",
      "\u001b[0;31mAttributeError\u001b[0m: 'Stack' object has no attribute 'is_empty'"
     ]
    }
   ],
   "source": [
    "def invert_str(mystring):\n",
    "    stack = Stack()\n",
    "    for letter in mystring:\n",
    "        stack.push(letter)\n",
    "    out = \"\"\n",
    "    while not stack.is_empty():\n",
    "        out += stack.pop()\n",
    "    return out\n",
    "\n",
    "invert_str(\"Edgar\")"
   ]
  },
  {
   "cell_type": "code",
   "execution_count": 10,
   "id": "c3692274",
   "metadata": {},
   "outputs": [],
   "source": [
    "# Simplified queue\n",
    "\n",
    "class Queue:\n",
    "    def __init__(self):\n",
    "        self.items = []\n",
    "        \n",
    "    def enqueue(self, element):\n",
    "        self.items.insert(0, element)\n",
    "        \n",
    "    def dequeue(self):\n",
    "        return self.items.pop()\n",
    "    \n",
    "    # nice to have:\n",
    "    def is_empty(self):\n",
    "        return self.items == None\n",
    "    \n",
    "    def size(self):\n",
    "        return len(self.items)\n",
    "    \n",
    "    def peek(self):\n",
    "        if not self.base\n",
    "            return None\n",
    "        else:\n",
    "            current = self.base\n",
    "            while current.above:\n",
    "                current = current.above\n",
    "            return current.data\n",
    "        \n",
    "    def __len__(self):\n",
    "        return self.size()\n",
    "    "
   ]
  },
  {
   "cell_type": "code",
   "execution_count": null,
   "id": "24ecc7d0",
   "metadata": {},
   "outputs": [],
   "source": [
    "# In our stack implementation, we choose to keep track of the base node; How would keeping track of\n",
    "# the top node change performance?\n",
    "# As a follow up, what operations (or methods) would need to change?\n",
    "\n",
    "# Extra:\n",
    "#Try your hand at the \"from scratch\" implementation for Queue."
   ]
  }
 ],
 "metadata": {
  "kernelspec": {
   "display_name": "Python 3 (ipykernel)",
   "language": "python",
   "name": "python3"
  },
  "language_info": {
   "codemirror_mode": {
    "name": "ipython",
    "version": 3
   },
   "file_extension": ".py",
   "mimetype": "text/x-python",
   "name": "python",
   "nbconvert_exporter": "python",
   "pygments_lexer": "ipython3",
   "version": "3.10.6"
  }
 },
 "nbformat": 4,
 "nbformat_minor": 5
}
